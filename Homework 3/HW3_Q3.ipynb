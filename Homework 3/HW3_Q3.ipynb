{
 "cells": [
  {
   "cell_type": "code",
   "execution_count": 1,
   "id": "c2e8fb58-c445-4b8e-b221-7e93e9fd2278",
   "metadata": {},
   "outputs": [],
   "source": [
    "## MANE 4962 Homework 3 Question 3\n",
    "# Load Modules\n",
    "import pandas as pd\n",
    "import seaborn as sns\n",
    "import numpy as np\n",
    "import matplotlib.pyplot as plt\n",
    "import skimage as ski\n",
    "from sklearn.model_selection import train_test_split\n",
    "from sklearn.datasets import load_breast_cancer\n",
    "from sklearn.linear_model import LogisticRegression\n",
    "from sklearn.model_selection import train_test_split\n",
    "from sklearn.metrics import accuracy_score, classification_report, confusion_matrix, roc_curve, auc\n",
    "from sklearn.preprocessing import StandardScaler"
   ]
  },
  {
   "cell_type": "code",
   "execution_count": 2,
   "id": "bb5eb150-7131-4f84-a04e-d0ace5bf4ae9",
   "metadata": {},
   "outputs": [
    {
     "data": {
      "text/plain": [
       "array([0, 0, 0, 0, 0, 0, 0, 0, 0, 0, 0, 0, 0, 0, 0, 0, 0, 0, 0, 1, 1, 1,\n",
       "       0, 0, 0, 0, 0, 0, 0, 0, 0, 0, 0, 0, 0, 0, 0, 1, 0, 0, 0, 0, 0, 0,\n",
       "       0, 0, 1, 0, 1, 1, 1, 1, 1, 0, 0, 1, 0, 0, 1, 1, 1, 1, 0, 1, 0, 0,\n",
       "       1, 1, 1, 1, 0, 1, 0, 0, 1, 0, 1, 0, 0, 1, 1, 1, 0, 0, 1, 0, 0, 0,\n",
       "       1, 1, 1, 0, 1, 1, 0, 0, 1, 1, 1, 0, 0, 1, 1, 1, 1, 0, 1, 1, 0, 1,\n",
       "       1, 1, 1, 1, 1, 1, 1, 0, 0, 0, 1, 0, 0, 1, 1, 1, 0, 0, 1, 0, 1, 0,\n",
       "       0, 1, 0, 0, 1, 1, 0, 1, 1, 0, 1, 1, 1, 1, 0, 1, 1, 1, 1, 1, 1, 1,\n",
       "       1, 1, 0, 1, 1, 1, 1, 0, 0, 1, 0, 1, 1, 0, 0, 1, 1, 0, 0, 1, 1, 1,\n",
       "       1, 0, 1, 1, 0, 0, 0, 1, 0, 1, 0, 1, 1, 1, 0, 1, 1, 0, 0, 1, 0, 0,\n",
       "       0, 0, 1, 0, 0, 0, 1, 0, 1, 0, 1, 1, 0, 1, 0, 0, 0, 0, 1, 1, 0, 0,\n",
       "       1, 1, 1, 0, 1, 1, 1, 1, 1, 0, 0, 1, 1, 0, 1, 1, 0, 0, 1, 0, 1, 1,\n",
       "       1, 1, 0, 1, 1, 1, 1, 1, 0, 1, 0, 0, 0, 0, 0, 0, 0, 0, 0, 0, 0, 0,\n",
       "       0, 0, 1, 1, 1, 1, 1, 1, 0, 1, 0, 1, 1, 0, 1, 1, 0, 1, 0, 0, 1, 1,\n",
       "       1, 1, 1, 1, 1, 1, 1, 1, 1, 1, 1, 0, 1, 1, 0, 1, 0, 1, 1, 1, 1, 1,\n",
       "       1, 1, 1, 1, 1, 1, 1, 1, 1, 0, 1, 1, 1, 0, 1, 0, 1, 1, 1, 1, 0, 0,\n",
       "       0, 1, 1, 1, 1, 0, 1, 0, 1, 0, 1, 1, 1, 0, 1, 1, 1, 1, 1, 1, 1, 0,\n",
       "       0, 0, 1, 1, 1, 1, 1, 1, 1, 1, 1, 1, 1, 0, 0, 1, 0, 0, 0, 1, 0, 0,\n",
       "       1, 1, 1, 1, 1, 0, 1, 1, 1, 1, 1, 0, 1, 1, 1, 0, 1, 1, 0, 0, 1, 1,\n",
       "       1, 1, 1, 1, 0, 1, 1, 1, 1, 1, 1, 1, 0, 1, 1, 1, 1, 1, 0, 1, 1, 0,\n",
       "       1, 1, 1, 1, 1, 1, 1, 1, 1, 1, 1, 1, 0, 1, 0, 0, 1, 0, 1, 1, 1, 1,\n",
       "       1, 0, 1, 1, 0, 1, 0, 1, 1, 0, 1, 0, 1, 1, 1, 1, 1, 1, 1, 1, 0, 0,\n",
       "       1, 1, 1, 1, 1, 1, 0, 1, 1, 1, 1, 1, 1, 1, 1, 1, 1, 0, 1, 1, 1, 1,\n",
       "       1, 1, 1, 0, 1, 0, 1, 1, 0, 1, 1, 1, 1, 1, 0, 0, 1, 0, 1, 0, 1, 1,\n",
       "       1, 1, 1, 0, 1, 1, 0, 1, 0, 1, 0, 0, 1, 1, 1, 0, 1, 1, 1, 1, 1, 1,\n",
       "       1, 1, 1, 1, 1, 0, 1, 0, 0, 1, 1, 1, 1, 1, 1, 1, 1, 1, 1, 1, 1, 1,\n",
       "       1, 1, 1, 1, 1, 1, 1, 1, 1, 1, 1, 1, 0, 0, 0, 0, 0, 0, 1])"
      ]
     },
     "metadata": {},
     "output_type": "display_data"
    },
    {
     "data": {
      "text/plain": [
       "array(['mean radius', 'mean texture', 'mean perimeter', 'mean area',\n",
       "       'mean smoothness', 'mean compactness', 'mean concavity',\n",
       "       'mean concave points', 'mean symmetry', 'mean fractal dimension',\n",
       "       'radius error', 'texture error', 'perimeter error', 'area error',\n",
       "       'smoothness error', 'compactness error', 'concavity error',\n",
       "       'concave points error', 'symmetry error',\n",
       "       'fractal dimension error', 'worst radius', 'worst texture',\n",
       "       'worst perimeter', 'worst area', 'worst smoothness',\n",
       "       'worst compactness', 'worst concavity', 'worst concave points',\n",
       "       'worst symmetry', 'worst fractal dimension'], dtype='<U23')"
      ]
     },
     "metadata": {},
     "output_type": "display_data"
    },
    {
     "data": {
      "text/plain": [
       "array(['malignant', 'benign'], dtype='<U9')"
      ]
     },
     "metadata": {},
     "output_type": "display_data"
    },
    {
     "data": {
      "text/plain": [
       "(569, 30)"
      ]
     },
     "metadata": {},
     "output_type": "display_data"
    }
   ],
   "source": [
    "# Load Data and display related information\n",
    "health = load_breast_cancer()\n",
    "# display(data)\n",
    "display(health.target)\n",
    "display(health.feature_names)\n",
    "display(health.target_names)\n",
    "display(health.data.shape)"
   ]
  },
  {
   "cell_type": "code",
   "execution_count": 3,
   "id": "79b7b52c-5cb8-4710-9353-5522615a2905",
   "metadata": {},
   "outputs": [
    {
     "data": {
      "text/plain": [
       "(569, 30)"
      ]
     },
     "metadata": {},
     "output_type": "display_data"
    },
    {
     "data": {
      "text/plain": [
       "(569, 2)"
      ]
     },
     "metadata": {},
     "output_type": "display_data"
    }
   ],
   "source": [
    "# Modifing Dataset (Best Two Features)\n",
    "# df = load_breast_cancer(as_frame=True) # Want in Pandas Data Frame\n",
    "display(health.data.shape) # Size 30 correspond to the 30 feature names\n",
    "X, y = health.data, health.target #y-data is already normalized to 0 and 1 \n",
    "X = np.column_stack((X[:,0], X[:,2]))  # Pick two datasets\n",
    "display(X.shape)"
   ]
  },
  {
   "cell_type": "code",
   "execution_count": 4,
   "id": "a5072955-b4fc-493a-bcb5-5e85d781b829",
   "metadata": {},
   "outputs": [
    {
     "name": "stdout",
     "output_type": "stream",
     "text": [
      "X_train shape : (398, 2)\n",
      "X_test shape : (171, 2)\n",
      "y_train shape : (398,)\n",
      "y_test shape : (171,)\n"
     ]
    }
   ],
   "source": [
    "# Spliting Dataset to 70/30 Split\n",
    "X_train, X_test, y_train, y_test = train_test_split(\n",
    "    X,y,\n",
    "    test_size=0.30,\n",
    "    train_size=0.70, \n",
    "    random_state = 42)\n",
    "\n",
    "# Display Data\n",
    "print('X_train shape :', X_train.shape)\n",
    "print('X_test shape :', X_test.shape)\n",
    "print('y_train shape :', y_train.shape)\n",
    "print('y_test shape :', y_test.shape)"
   ]
  },
  {
   "cell_type": "code",
   "execution_count": 5,
   "id": "4c7b0ca9-d7b8-479a-9e3f-3582da1d72b4",
   "metadata": {},
   "outputs": [
    {
     "name": "stdout",
     "output_type": "stream",
     "text": [
      "Accuracy:  92.39766081871345\n",
      "              precision    recall  f1-score   support\n",
      "\n",
      "           0       0.95      0.84      0.89        63\n",
      "           1       0.91      0.97      0.94       108\n",
      "\n",
      "    accuracy                           0.92       171\n",
      "   macro avg       0.93      0.91      0.92       171\n",
      "weighted avg       0.93      0.92      0.92       171\n",
      "\n"
     ]
    }
   ],
   "source": [
    "# Logistic Regression Model\n",
    "log_reg = LogisticRegression()\n",
    "log_reg.fit(X_train, y_train)\n",
    "y_prob = log_reg.predict_proba(X_test) # Probability\n",
    "y_pred = log_reg.predict(X_test) # Predicition\n",
    "acc = accuracy_score(y_test, y_pred)\n",
    "print(\"Accuracy: \", acc*100)\n",
    "print(classification_report(y_test, y_pred))"
   ]
  },
  {
   "cell_type": "code",
   "execution_count": 15,
   "id": "333939cc-6968-46ef-aa7d-c3262fe7b948",
   "metadata": {},
   "outputs": [
    {
     "name": "stdout",
     "output_type": "stream",
     "text": [
      "Accuracy:  97.07602339181285\n",
      "              precision    recall  f1-score   support\n",
      "\n",
      "           0       0.97      0.95      0.96        63\n",
      "           1       0.97      0.98      0.98       108\n",
      "\n",
      "    accuracy                           0.97       171\n",
      "   macro avg       0.97      0.97      0.97       171\n",
      "weighted avg       0.97      0.97      0.97       171\n",
      "\n"
     ]
    },
    {
     "data": {
      "text/plain": [
       "21"
      ]
     },
     "metadata": {},
     "output_type": "display_data"
    },
    {
     "data": {
      "text/plain": [
       "22"
      ]
     },
     "metadata": {},
     "output_type": "display_data"
    }
   ],
   "source": [
    "## Create Code that automatically parse through two features and pick the one with the highest accuarcy\n",
    "X, y = health.data, health.target # Re-initalized variable\n",
    "log_reg = LogisticRegression() # Model\n",
    "acc = 0; \n",
    "tol = 0.97; \n",
    "idx = 0; \n",
    "while acc < tol:\n",
    "    num = np.random.randint(0,30,2) # 30 different features\n",
    "    if num[0] == num[1]:\n",
    "        num[1] = num[1] + 1 # Prevent Duplicates\n",
    "    data1 = X[:,num[0]] # Pick two datasets from random number generator\n",
    "    data2 = X[:,num[1]]\n",
    "    X_data = np.column_stack((data1, data2)) # Stack Column\n",
    "\n",
    "    X_train, X_test, y_train, y_test = train_test_split(\n",
    "        X_data,y, test_size=0.30,train_size=0.70, random_state = 42) # Traning and Test Set\n",
    "\n",
    "    # Run Model\n",
    "    log_reg.fit(X_train, y_train)\n",
    "    y_prob = log_reg.predict_proba(X_test) # Probability\n",
    "    y_pred = log_reg.predict(X_test) # Predicition\n",
    "    acc = accuracy_score(y_test, y_pred)\n",
    "    \n",
    "    if idx == 1000:\n",
    "        break\n",
    "    idx += 1\n",
    "\n",
    "print(\"Accuracy: \", acc*100)\n",
    "print(classification_report(y_test, y_pred))\n",
    "display(num[0])\n",
    "display(num[1])"
   ]
  },
  {
   "cell_type": "code",
   "execution_count": 17,
   "id": "f1fe2cf4-250e-47d2-8f33-7231d47ca941",
   "metadata": {},
   "outputs": [
    {
     "data": {
      "image/png": "[encoded data removed]",
      "text/plain": [
       "<Figure size 640x480 with 2 Axes>"
      ]
     },
     "metadata": {},
     "output_type": "display_data"
    }
   ],
   "source": [
    "targ = np.array([0, 1])\n",
    "cm_sk = confusion_matrix(y_test, y_pred)\n",
    "ax = sns.heatmap(cm_sk,linewidths=2, annot=True, cmap='viridis', cbar=True);\n",
    "ax.set_xticklabels(targ);\n",
    "ax.set_yticklabels(targ);\n",
    "plt.xlabel('Predicted Cancer Status');\n",
    "plt.ylabel('Actual Cancer Status');\n",
    "plt.xticks(rotation=45);\n",
    "plt.yticks(rotation=45);\n",
    "plt.title('Classification results (sklearn KNN model)', fontsize='medium', fontweight='bold');"
   ]
  },
  {
   "cell_type": "code",
   "execution_count": 78,
   "id": "7eced7ec-1d71-428e-bedc-fa0a99783095",
   "metadata": {},
   "outputs": [],
   "source": [
    "### From trial and error the best data to use for the most accurate classification are mean_radius, fractal dimension error, worst radius,\n",
    "### worst texture. Different other data combination result in lower accuracy in classification. Overall a max of 97% accuracy can be achieve using\n",
    "### any combination of data from trial and error."
   ]
  }
 ],
 "metadata": {
  "kernelspec": {
   "display_name": "Python [conda env:anaconda3] *",
   "language": "python",
   "name": "conda-env-anaconda3-py"
  },
  "language_info": {
   "codemirror_mode": {
    "name": "ipython",
    "version": 3
   },
   "file_extension": ".py",
   "mimetype": "text/x-python",
   "name": "python",
   "nbconvert_exporter": "python",
   "pygments_lexer": "ipython3",
   "version": "3.12.7"
  }
 },
 "nbformat": 4,
 "nbformat_minor": 5
}

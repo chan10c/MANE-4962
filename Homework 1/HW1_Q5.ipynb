{
 "cells": [
  {
   "cell_type": "code",
   "execution_count": 3,
   "metadata": {
    "colab": {
     "base_uri": "https://localhost:8080/"
    },
    "id": "h5jDppFjLd5x",
    "outputId": "1759201f-5c6f-4362-ca79-0747e3322f4b"
   },
   "outputs": [
    {
     "name": "stderr",
     "output_type": "stream",
     "text": [
      "C:\\Users\\calvi\\anaconda3\\Lib\\site-packages\\keras\\src\\layers\\core\\dense.py:87: UserWarning: Do not pass an `input_shape`/`input_dim` argument to a layer. When using Sequential models, prefer using an `Input(shape)` object as the first layer in the model instead.\n",
      "  super().__init__(activity_regularizer=activity_regularizer, **kwargs)\n"
     ]
    },
    {
     "data": {
      "text/html": [
       "<pre style=\"white-space:pre;overflow-x:auto;line-height:normal;font-family:Menlo,'DejaVu Sans Mono',consolas,'Courier New',monospace\"><span style=\"font-weight: bold\">Model: \"sequential\"</span>\n",
       "</pre>\n"
      ],
      "text/plain": [
       "\u001b[1mModel: \"sequential\"\u001b[0m\n"
      ]
     },
     "metadata": {},
     "output_type": "display_data"
    },
    {
     "data": {
      "text/html": [
       "<pre style=\"white-space:pre;overflow-x:auto;line-height:normal;font-family:Menlo,'DejaVu Sans Mono',consolas,'Courier New',monospace\">┏━━━━━━━━━━━━━━━━━━━━━━━━━━━━━━━━━┳━━━━━━━━━━━━━━━━━━━━━━━━┳━━━━━━━━━━━━━━━┓\n",
       "┃<span style=\"font-weight: bold\"> Layer (type)                    </span>┃<span style=\"font-weight: bold\"> Output Shape           </span>┃<span style=\"font-weight: bold\">       Param # </span>┃\n",
       "┡━━━━━━━━━━━━━━━━━━━━━━━━━━━━━━━━━╇━━━━━━━━━━━━━━━━━━━━━━━━╇━━━━━━━━━━━━━━━┩\n",
       "│ dense (<span style=\"color: #0087ff; text-decoration-color: #0087ff\">Dense</span>)                   │ (<span style=\"color: #00d7ff; text-decoration-color: #00d7ff\">None</span>, <span style=\"color: #00af00; text-decoration-color: #00af00\">10</span>)             │            <span style=\"color: #00af00; text-decoration-color: #00af00\">20</span> │\n",
       "├─────────────────────────────────┼────────────────────────┼───────────────┤\n",
       "│ dense_1 (<span style=\"color: #0087ff; text-decoration-color: #0087ff\">Dense</span>)                 │ (<span style=\"color: #00d7ff; text-decoration-color: #00d7ff\">None</span>, <span style=\"color: #00af00; text-decoration-color: #00af00\">10</span>)             │           <span style=\"color: #00af00; text-decoration-color: #00af00\">110</span> │\n",
       "├─────────────────────────────────┼────────────────────────┼───────────────┤\n",
       "│ dense_2 (<span style=\"color: #0087ff; text-decoration-color: #0087ff\">Dense</span>)                 │ (<span style=\"color: #00d7ff; text-decoration-color: #00d7ff\">None</span>, <span style=\"color: #00af00; text-decoration-color: #00af00\">10</span>)             │           <span style=\"color: #00af00; text-decoration-color: #00af00\">110</span> │\n",
       "├─────────────────────────────────┼────────────────────────┼───────────────┤\n",
       "│ dense_3 (<span style=\"color: #0087ff; text-decoration-color: #0087ff\">Dense</span>)                 │ (<span style=\"color: #00d7ff; text-decoration-color: #00d7ff\">None</span>, <span style=\"color: #00af00; text-decoration-color: #00af00\">10</span>)             │           <span style=\"color: #00af00; text-decoration-color: #00af00\">110</span> │\n",
       "├─────────────────────────────────┼────────────────────────┼───────────────┤\n",
       "│ dense_4 (<span style=\"color: #0087ff; text-decoration-color: #0087ff\">Dense</span>)                 │ (<span style=\"color: #00d7ff; text-decoration-color: #00d7ff\">None</span>, <span style=\"color: #00af00; text-decoration-color: #00af00\">10</span>)             │           <span style=\"color: #00af00; text-decoration-color: #00af00\">110</span> │\n",
       "├─────────────────────────────────┼────────────────────────┼───────────────┤\n",
       "│ dense_5 (<span style=\"color: #0087ff; text-decoration-color: #0087ff\">Dense</span>)                 │ (<span style=\"color: #00d7ff; text-decoration-color: #00d7ff\">None</span>, <span style=\"color: #00af00; text-decoration-color: #00af00\">1</span>)              │            <span style=\"color: #00af00; text-decoration-color: #00af00\">11</span> │\n",
       "└─────────────────────────────────┴────────────────────────┴───────────────┘\n",
       "</pre>\n"
      ],
      "text/plain": [
       "┏━━━━━━━━━━━━━━━━━━━━━━━━━━━━━━━━━┳━━━━━━━━━━━━━━━━━━━━━━━━┳━━━━━━━━━━━━━━━┓\n",
       "┃\u001b[1m \u001b[0m\u001b[1mLayer (type)                   \u001b[0m\u001b[1m \u001b[0m┃\u001b[1m \u001b[0m\u001b[1mOutput Shape          \u001b[0m\u001b[1m \u001b[0m┃\u001b[1m \u001b[0m\u001b[1m      Param #\u001b[0m\u001b[1m \u001b[0m┃\n",
       "┡━━━━━━━━━━━━━━━━━━━━━━━━━━━━━━━━━╇━━━━━━━━━━━━━━━━━━━━━━━━╇━━━━━━━━━━━━━━━┩\n",
       "│ dense (\u001b[38;5;33mDense\u001b[0m)                   │ (\u001b[38;5;45mNone\u001b[0m, \u001b[38;5;34m10\u001b[0m)             │            \u001b[38;5;34m20\u001b[0m │\n",
       "├─────────────────────────────────┼────────────────────────┼───────────────┤\n",
       "│ dense_1 (\u001b[38;5;33mDense\u001b[0m)                 │ (\u001b[38;5;45mNone\u001b[0m, \u001b[38;5;34m10\u001b[0m)             │           \u001b[38;5;34m110\u001b[0m │\n",
       "├─────────────────────────────────┼────────────────────────┼───────────────┤\n",
       "│ dense_2 (\u001b[38;5;33mDense\u001b[0m)                 │ (\u001b[38;5;45mNone\u001b[0m, \u001b[38;5;34m10\u001b[0m)             │           \u001b[38;5;34m110\u001b[0m │\n",
       "├─────────────────────────────────┼────────────────────────┼───────────────┤\n",
       "│ dense_3 (\u001b[38;5;33mDense\u001b[0m)                 │ (\u001b[38;5;45mNone\u001b[0m, \u001b[38;5;34m10\u001b[0m)             │           \u001b[38;5;34m110\u001b[0m │\n",
       "├─────────────────────────────────┼────────────────────────┼───────────────┤\n",
       "│ dense_4 (\u001b[38;5;33mDense\u001b[0m)                 │ (\u001b[38;5;45mNone\u001b[0m, \u001b[38;5;34m10\u001b[0m)             │           \u001b[38;5;34m110\u001b[0m │\n",
       "├─────────────────────────────────┼────────────────────────┼───────────────┤\n",
       "│ dense_5 (\u001b[38;5;33mDense\u001b[0m)                 │ (\u001b[38;5;45mNone\u001b[0m, \u001b[38;5;34m1\u001b[0m)              │            \u001b[38;5;34m11\u001b[0m │\n",
       "└─────────────────────────────────┴────────────────────────┴───────────────┘\n"
      ]
     },
     "metadata": {},
     "output_type": "display_data"
    },
    {
     "data": {
      "text/html": [
       "<pre style=\"white-space:pre;overflow-x:auto;line-height:normal;font-family:Menlo,'DejaVu Sans Mono',consolas,'Courier New',monospace\"><span style=\"font-weight: bold\"> Total params: </span><span style=\"color: #00af00; text-decoration-color: #00af00\">1,415</span> (5.53 KB)\n",
       "</pre>\n"
      ],
      "text/plain": [
       "\u001b[1m Total params: \u001b[0m\u001b[38;5;34m1,415\u001b[0m (5.53 KB)\n"
      ]
     },
     "metadata": {},
     "output_type": "display_data"
    },
    {
     "data": {
      "text/html": [
       "<pre style=\"white-space:pre;overflow-x:auto;line-height:normal;font-family:Menlo,'DejaVu Sans Mono',consolas,'Courier New',monospace\"><span style=\"font-weight: bold\"> Trainable params: </span><span style=\"color: #00af00; text-decoration-color: #00af00\">471</span> (1.84 KB)\n",
       "</pre>\n"
      ],
      "text/plain": [
       "\u001b[1m Trainable params: \u001b[0m\u001b[38;5;34m471\u001b[0m (1.84 KB)\n"
      ]
     },
     "metadata": {},
     "output_type": "display_data"
    },
    {
     "data": {
      "text/html": [
       "<pre style=\"white-space:pre;overflow-x:auto;line-height:normal;font-family:Menlo,'DejaVu Sans Mono',consolas,'Courier New',monospace\"><span style=\"font-weight: bold\"> Non-trainable params: </span><span style=\"color: #00af00; text-decoration-color: #00af00\">0</span> (0.00 B)\n",
       "</pre>\n"
      ],
      "text/plain": [
       "\u001b[1m Non-trainable params: \u001b[0m\u001b[38;5;34m0\u001b[0m (0.00 B)\n"
      ]
     },
     "metadata": {},
     "output_type": "display_data"
    },
    {
     "data": {
      "text/html": [
       "<pre style=\"white-space:pre;overflow-x:auto;line-height:normal;font-family:Menlo,'DejaVu Sans Mono',consolas,'Courier New',monospace\"><span style=\"font-weight: bold\"> Optimizer params: </span><span style=\"color: #00af00; text-decoration-color: #00af00\">944</span> (3.69 KB)\n",
       "</pre>\n"
      ],
      "text/plain": [
       "\u001b[1m Optimizer params: \u001b[0m\u001b[38;5;34m944\u001b[0m (3.69 KB)\n"
      ]
     },
     "metadata": {},
     "output_type": "display_data"
    },
    {
     "name": "stdout",
     "output_type": "stream",
     "text": [
      "\u001b[1m4/4\u001b[0m \u001b[32m━━━━━━━━━━━━━━━━━━━━\u001b[0m\u001b[37m\u001b[0m \u001b[1m0s\u001b[0m 17ms/step\n",
      "[58.0] => 1.78 (expected 1.79)\n",
      "[51.0] => 1.76 (expected 1.75)\n",
      "[51.0] => 1.76 (expected 1.75)\n",
      "[20.0] => 1.53 (expected 1.53)\n",
      "[72.0] => 1.83 (expected 1.84)\n",
      "[46.0] => 1.74 (expected 1.73)\n",
      "[9.0] => 1.37 (expected 1.37)\n",
      "[12.0] => 1.44 (expected 1.43)\n",
      "[2.0] => 1.12 (expected 1.10)\n",
      "[81.0] => 1.87 (expected 1.87)\n",
      "[86.0] => 1.89 (expected 1.89)\n",
      "[67.0] => 1.82 (expected 1.82)\n",
      "[87.0] => 1.89 (expected 1.89)\n",
      "[85.0] => 1.88 (expected 1.89)\n",
      "[79.0] => 1.86 (expected 1.87)\n",
      "[9.0] => 1.37 (expected 1.37)\n",
      "[37.0] => 1.68 (expected 1.68)\n",
      "[45.0] => 1.73 (expected 1.72)\n",
      "[55.0] => 1.77 (expected 1.77)\n",
      "[15.0] => 1.47 (expected 1.47)\n",
      "[26.0] => 1.59 (expected 1.59)\n",
      "[98.0] => 1.93 (expected 1.93)\n",
      "[75.0] => 1.85 (expected 1.85)\n",
      "[27.0] => 1.59 (expected 1.60)\n",
      "[95.0] => 1.92 (expected 1.92)\n",
      "[74.0] => 1.84 (expected 1.85)\n",
      "[71.0] => 1.83 (expected 1.84)\n",
      "[63.0] => 1.80 (expected 1.81)\n",
      "[51.0] => 1.76 (expected 1.75)\n",
      "[12.0] => 1.44 (expected 1.43)\n",
      "[78.0] => 1.86 (expected 1.86)\n",
      "[76.0] => 1.85 (expected 1.86)\n",
      "[38.0] => 1.69 (expected 1.68)\n",
      "[26.0] => 1.59 (expected 1.59)\n",
      "[28.0] => 1.60 (expected 1.61)\n",
      "[54.0] => 1.77 (expected 1.77)\n",
      "[41.0] => 1.71 (expected 1.70)\n",
      "[25.0] => 1.58 (expected 1.58)\n",
      "[50.0] => 1.75 (expected 1.75)\n",
      "[44.0] => 1.73 (expected 1.72)\n",
      "[55.0] => 1.77 (expected 1.77)\n",
      "[90.0] => 1.90 (expected 1.90)\n",
      "[12.0] => 1.44 (expected 1.43)\n",
      "[65.0] => 1.81 (expected 1.82)\n",
      "[69.0] => 1.82 (expected 1.83)\n",
      "[6.0] => 1.29 (expected 1.29)\n",
      "[62.0] => 1.80 (expected 1.80)\n",
      "[26.0] => 1.59 (expected 1.59)\n",
      "[69.0] => 1.82 (expected 1.83)\n",
      "[13.0] => 1.45 (expected 1.44)\n",
      "[74.0] => 1.84 (expected 1.85)\n",
      "[8.0] => 1.35 (expected 1.35)\n",
      "[72.0] => 1.83 (expected 1.84)\n",
      "[38.0] => 1.69 (expected 1.68)\n",
      "[74.0] => 1.84 (expected 1.85)\n",
      "[21.0] => 1.54 (expected 1.54)\n",
      "[21.0] => 1.54 (expected 1.54)\n",
      "[94.0] => 1.92 (expected 1.91)\n",
      "[5.0] => 1.26 (expected 1.26)\n",
      "[78.0] => 1.86 (expected 1.86)\n",
      "[30.0] => 1.62 (expected 1.63)\n",
      "[14.0] => 1.46 (expected 1.46)\n",
      "[3.0] => 1.17 (expected 1.17)\n",
      "[39.0] => 1.70 (expected 1.69)\n",
      "[22.0] => 1.55 (expected 1.56)\n",
      "[82.0] => 1.87 (expected 1.88)\n",
      "[95.0] => 1.92 (expected 1.92)\n",
      "[67.0] => 1.82 (expected 1.82)\n",
      "[7.0] => 1.32 (expected 1.32)\n",
      "[13.0] => 1.45 (expected 1.44)\n",
      "[98.0] => 1.93 (expected 1.93)\n",
      "[23.0] => 1.56 (expected 1.57)\n",
      "[55.0] => 1.77 (expected 1.77)\n",
      "[70.0] => 1.83 (expected 1.83)\n",
      "[79.0] => 1.86 (expected 1.87)\n",
      "[66.0] => 1.81 (expected 1.82)\n",
      "[14.0] => 1.46 (expected 1.46)\n",
      "[67.0] => 1.82 (expected 1.82)\n",
      "[34.0] => 1.65 (expected 1.65)\n",
      "[76.0] => 1.85 (expected 1.86)\n",
      "[90.0] => 1.90 (expected 1.90)\n",
      "[93.0] => 1.91 (expected 1.91)\n",
      "[16.0] => 1.48 (expected 1.49)\n",
      "[32.0] => 1.64 (expected 1.64)\n",
      "[75.0] => 1.85 (expected 1.85)\n",
      "[66.0] => 1.81 (expected 1.82)\n",
      "[36.0] => 1.67 (expected 1.67)\n",
      "[67.0] => 1.82 (expected 1.82)\n",
      "[92.0] => 1.91 (expected 1.91)\n",
      "[3.0] => 1.17 (expected 1.17)\n",
      "[69.0] => 1.82 (expected 1.83)\n",
      "[15.0] => 1.47 (expected 1.47)\n",
      "[90.0] => 1.90 (expected 1.90)\n",
      "[80.0] => 1.86 (expected 1.87)\n",
      "[63.0] => 1.80 (expected 1.81)\n",
      "[95.0] => 1.92 (expected 1.92)\n",
      "[76.0] => 1.85 (expected 1.86)\n",
      "[91.0] => 1.91 (expected 1.90)\n",
      "[82.0] => 1.87 (expected 1.88)\n",
      "[80.0] => 1.86 (expected 1.87)\n"
     ]
    },
    {
     "name": "stderr",
     "output_type": "stream",
     "text": [
      "C:\\Users\\calvi\\AppData\\Local\\Temp\\ipykernel_17848\\2872785504.py:51: DeprecationWarning: Conversion of an array with ndim > 0 to a scalar is deprecated, and will error in future. Ensure you extract a single element from your array before performing this operation. (Deprecated NumPy 1.25.)\n",
      "  print('%s => %.2f (expected %.2f)' %(X[i].tolist(), predictions[i], y[i]) )\n"
     ]
    }
   ],
   "source": [
    "import tensorflow as tf\n",
    "from numpy import loadtxt\n",
    "from keras.models import Sequential\n",
    "from keras.layers import Dense\n",
    "from keras import optimizers\n",
    "from tensorflow.python.keras.optimizers import *\n",
    "import numpy as np\n",
    "\n",
    "\"\"\"\n",
    "#Load dataset (Original Code)\n",
    "#split into input (X) and output (y)\n",
    "X = np.array([[1], [4], [9], [16], [25], [36], [49], [64], [81], [100]])\n",
    "X = X*1.0\n",
    "# y = np.array([[1], [2], [3], [4], [5], [6], [7], [8], [9], [10]]) #Square Root Code\n",
    "y = np.array([[1], [1.219], [1.368], [1.485], [1.584], [1.669], [1.744], [1.811], [1.873], [1.931]]) # 7th Root\n",
    "y = y*1.0\n",
    "\"\"\"\n",
    "\n",
    "# Random Dataset 7thRoot Sqaure Function to Train Mode\n",
    "X = np.random.randint(1,100, size = (1,100))\n",
    "X = np.reshape(X, (-1,1))\n",
    "X = X*1.0\n",
    "y = np.power(X, (1/7)) # Power 1/7 = 7th Root\n",
    "y = y*1.0\n",
    "\n",
    "#define keras model\n",
    "model = Sequential()\n",
    "\n",
    "model.add(Dense(10,input_dim=1,activation='relu'))\n",
    "model.add(Dense(10,activation='relu'))\n",
    "model.add(Dense(10,activation='relu'))\n",
    "model.add(Dense(10,activation='relu')) # Add more layers\n",
    "model.add(Dense(10,activation='relu')) # Add more layers\n",
    "model.add(Dense(1))\n",
    "\n",
    "#compile the keras model\n",
    "opt = optimizers.Adam(learning_rate=0.001)\n",
    "mse = tf.keras.losses.MeanSquaredError(\n",
    "    reduction=tf.keras.losses.Reduction.SUM)\n",
    "model.compile(loss=mse, optimizer=opt)\n",
    "\n",
    "#fit the keras model on the dataset (CPU)\n",
    "model.fit(X,y,epochs=2000, batch_size = 10, verbose=0)\n",
    "model.summary()\n",
    "\n",
    "#make class predictions with the model\n",
    "predictions = model.predict(X)\n",
    "\n",
    "#summarize all cases\n",
    "for i in range(100):\n",
    "    print('%s => %.2f (expected %.2f)' %(X[i].tolist(), predictions[i], y[i]) )"
   ]
  },
  {
   "cell_type": "code",
   "execution_count": 4,
   "metadata": {
    "colab": {
     "base_uri": "https://localhost:8080/",
     "height": 314
    },
    "id": "n1CIXUlPjkct",
    "outputId": "904841e6-dbb7-4860-d8ec-517d1f5d397c"
   },
   "outputs": [
    {
     "name": "stdout",
     "output_type": "stream",
     "text": [
      "\u001b[1m4/4\u001b[0m \u001b[32m━━━━━━━━━━━━━━━━━━━━\u001b[0m\u001b[37m\u001b[0m \u001b[1m0s\u001b[0m 6ms/step \n"
     ]
    },
    {
     "data": {
      "text/plain": [
       "<matplotlib.legend.Legend at 0x26aac425700>"
      ]
     },
     "execution_count": 4,
     "metadata": {},
     "output_type": "execute_result"
    },
    {
     "data": {
      "image/png": "[encoded data removed]",
      "text/plain": [
       "<Figure size 640x480 with 1 Axes>"
      ]
     },
     "metadata": {},
     "output_type": "display_data"
    }
   ],
   "source": [
    "import matplotlib.pyplot as plt\n",
    "number_grid = np.linspace(1, 100, 100)\n",
    "plt.scatter(X,y, label='data')\n",
    "plt.plot(number_grid,model.predict(np.expand_dims(number_grid,axis=1)) , color='red', label='model')\n",
    "plt.xlabel('number')\n",
    "plt.ylabel('square root')\n",
    "plt.legend()"
   ]
  }
 ],
 "metadata": {
  "colab": {
   "provenance": []
  },
  "kernelspec": {
   "display_name": "Python [conda env:anaconda3] *",
   "language": "python",
   "name": "conda-env-anaconda3-py"
  },
  "language_info": {
   "codemirror_mode": {
    "name": "ipython",
    "version": 3
   },
   "file_extension": ".py",
   "mimetype": "text/x-python",
   "name": "python",
   "nbconvert_exporter": "python",
   "pygments_lexer": "ipython3",
   "version": "3.12.7"
  }
 },
 "nbformat": 4,
 "nbformat_minor": 4
}

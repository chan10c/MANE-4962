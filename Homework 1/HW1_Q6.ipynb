{
 "cells": [
  {
   "cell_type": "code",
   "execution_count": 3,
   "metadata": {},
   "outputs": [
    {
     "data": {
      "text/html": [
       "<div>\n",
       "<style scoped>\n",
       "    .dataframe tbody tr th:only-of-type {\n",
       "        vertical-align: middle;\n",
       "    }\n",
       "\n",
       "    .dataframe tbody tr th {\n",
       "        vertical-align: top;\n",
       "    }\n",
       "\n",
       "    .dataframe thead th {\n",
       "        text-align: right;\n",
       "    }\n",
       "</style>\n",
       "<table border=\"1\" class=\"dataframe\">\n",
       "  <thead>\n",
       "    <tr style=\"text-align: right;\">\n",
       "      <th></th>\n",
       "      <th>sepal length</th>\n",
       "      <th>sepal width</th>\n",
       "      <th>petal length</th>\n",
       "      <th>petal width</th>\n",
       "    </tr>\n",
       "  </thead>\n",
       "  <tbody>\n",
       "    <tr>\n",
       "      <th>0</th>\n",
       "      <td>5.1</td>\n",
       "      <td>3.5</td>\n",
       "      <td>1.4</td>\n",
       "      <td>0.2</td>\n",
       "    </tr>\n",
       "    <tr>\n",
       "      <th>1</th>\n",
       "      <td>4.9</td>\n",
       "      <td>3.0</td>\n",
       "      <td>1.4</td>\n",
       "      <td>0.2</td>\n",
       "    </tr>\n",
       "    <tr>\n",
       "      <th>2</th>\n",
       "      <td>4.7</td>\n",
       "      <td>3.2</td>\n",
       "      <td>1.3</td>\n",
       "      <td>0.2</td>\n",
       "    </tr>\n",
       "    <tr>\n",
       "      <th>3</th>\n",
       "      <td>4.6</td>\n",
       "      <td>3.1</td>\n",
       "      <td>1.5</td>\n",
       "      <td>0.2</td>\n",
       "    </tr>\n",
       "    <tr>\n",
       "      <th>4</th>\n",
       "      <td>5.0</td>\n",
       "      <td>3.6</td>\n",
       "      <td>1.4</td>\n",
       "      <td>0.2</td>\n",
       "    </tr>\n",
       "    <tr>\n",
       "      <th>...</th>\n",
       "      <td>...</td>\n",
       "      <td>...</td>\n",
       "      <td>...</td>\n",
       "      <td>...</td>\n",
       "    </tr>\n",
       "    <tr>\n",
       "      <th>145</th>\n",
       "      <td>6.7</td>\n",
       "      <td>3.0</td>\n",
       "      <td>5.2</td>\n",
       "      <td>2.3</td>\n",
       "    </tr>\n",
       "    <tr>\n",
       "      <th>146</th>\n",
       "      <td>6.3</td>\n",
       "      <td>2.5</td>\n",
       "      <td>5.0</td>\n",
       "      <td>1.9</td>\n",
       "    </tr>\n",
       "    <tr>\n",
       "      <th>147</th>\n",
       "      <td>6.5</td>\n",
       "      <td>3.0</td>\n",
       "      <td>5.2</td>\n",
       "      <td>2.0</td>\n",
       "    </tr>\n",
       "    <tr>\n",
       "      <th>148</th>\n",
       "      <td>6.2</td>\n",
       "      <td>3.4</td>\n",
       "      <td>5.4</td>\n",
       "      <td>2.3</td>\n",
       "    </tr>\n",
       "    <tr>\n",
       "      <th>149</th>\n",
       "      <td>5.9</td>\n",
       "      <td>3.0</td>\n",
       "      <td>5.1</td>\n",
       "      <td>1.8</td>\n",
       "    </tr>\n",
       "  </tbody>\n",
       "</table>\n",
       "<p>150 rows × 4 columns</p>\n",
       "</div>"
      ],
      "text/plain": [
       "     sepal length  sepal width  petal length  petal width\n",
       "0             5.1          3.5           1.4          0.2\n",
       "1             4.9          3.0           1.4          0.2\n",
       "2             4.7          3.2           1.3          0.2\n",
       "3             4.6          3.1           1.5          0.2\n",
       "4             5.0          3.6           1.4          0.2\n",
       "..            ...          ...           ...          ...\n",
       "145           6.7          3.0           5.2          2.3\n",
       "146           6.3          2.5           5.0          1.9\n",
       "147           6.5          3.0           5.2          2.0\n",
       "148           6.2          3.4           5.4          2.3\n",
       "149           5.9          3.0           5.1          1.8\n",
       "\n",
       "[150 rows x 4 columns]"
      ]
     },
     "metadata": {},
     "output_type": "display_data"
    }
   ],
   "source": [
    "\"\"\"Load Data Set\"\"\"\n",
    "import tensorflow as tf\n",
    "from numpy import loadtxt\n",
    "from keras.models import Sequential\n",
    "from keras.layers import Dense\n",
    "from keras import optimizers\n",
    "from tensorflow.python.keras.optimizers import *\n",
    "import numpy as np\n",
    "import pandas as pd\n",
    "from sklearn.datasets import load_iris\n",
    "\n",
    "data = load_iris() #shift+tab\n",
    "\n",
    "diris = pd.DataFrame()\n",
    "diris['sepal length'] = data['data'][:,0]\n",
    "diris['sepal width'] = data['data'][:,1]\n",
    "diris['petal length'] = data['data'][:,2]\n",
    "diris['petal width'] = data['data'][:,3]\n",
    "\n",
    "display(diris) # Verifiy Data "
   ]
  },
  {
   "cell_type": "code",
   "execution_count": 4,
   "metadata": {},
   "outputs": [
    {
     "data": {
      "text/plain": [
       "0      5.1\n",
       "1      4.9\n",
       "2      4.7\n",
       "3      4.6\n",
       "4      5.0\n",
       "      ... \n",
       "145    6.7\n",
       "146    6.3\n",
       "147    6.5\n",
       "148    6.2\n",
       "149    5.9\n",
       "Name: sepal length, Length: 150, dtype: float64"
      ]
     },
     "metadata": {},
     "output_type": "display_data"
    },
    {
     "data": {
      "text/plain": [
       "0      1.4\n",
       "1      1.4\n",
       "2      1.3\n",
       "3      1.5\n",
       "4      1.4\n",
       "      ... \n",
       "145    5.2\n",
       "146    5.0\n",
       "147    5.2\n",
       "148    5.4\n",
       "149    5.1\n",
       "Name: petal length, Length: 150, dtype: float64"
      ]
     },
     "metadata": {},
     "output_type": "display_data"
    }
   ],
   "source": [
    "# Defining Training Data for Dataset\n",
    "X = diris.loc[:, 'sepal length']\n",
    "y = diris.loc[:, 'petal length']\n",
    "display(X)\n",
    "display(y)"
   ]
  },
  {
   "cell_type": "code",
   "execution_count": 5,
   "metadata": {
    "colab": {
     "base_uri": "https://localhost:8080/"
    },
    "id": "h5jDppFjLd5x",
    "outputId": "1759201f-5c6f-4362-ca79-0747e3322f4b"
   },
   "outputs": [
    {
     "name": "stderr",
     "output_type": "stream",
     "text": [
      "C:\\Users\\calvi\\anaconda3\\Lib\\site-packages\\keras\\src\\layers\\core\\dense.py:87: UserWarning: Do not pass an `input_shape`/`input_dim` argument to a layer. When using Sequential models, prefer using an `Input(shape)` object as the first layer in the model instead.\n",
      "  super().__init__(activity_regularizer=activity_regularizer, **kwargs)\n"
     ]
    },
    {
     "data": {
      "text/html": [
       "<pre style=\"white-space:pre;overflow-x:auto;line-height:normal;font-family:Menlo,'DejaVu Sans Mono',consolas,'Courier New',monospace\"><span style=\"font-weight: bold\">Model: \"sequential\"</span>\n",
       "</pre>\n"
      ],
      "text/plain": [
       "\u001b[1mModel: \"sequential\"\u001b[0m\n"
      ]
     },
     "metadata": {},
     "output_type": "display_data"
    },
    {
     "data": {
      "text/html": [
       "<pre style=\"white-space:pre;overflow-x:auto;line-height:normal;font-family:Menlo,'DejaVu Sans Mono',consolas,'Courier New',monospace\">┏━━━━━━━━━━━━━━━━━━━━━━━━━━━━━━━━━┳━━━━━━━━━━━━━━━━━━━━━━━━┳━━━━━━━━━━━━━━━┓\n",
       "┃<span style=\"font-weight: bold\"> Layer (type)                    </span>┃<span style=\"font-weight: bold\"> Output Shape           </span>┃<span style=\"font-weight: bold\">       Param # </span>┃\n",
       "┡━━━━━━━━━━━━━━━━━━━━━━━━━━━━━━━━━╇━━━━━━━━━━━━━━━━━━━━━━━━╇━━━━━━━━━━━━━━━┩\n",
       "│ dense (<span style=\"color: #0087ff; text-decoration-color: #0087ff\">Dense</span>)                   │ (<span style=\"color: #00d7ff; text-decoration-color: #00d7ff\">None</span>, <span style=\"color: #00af00; text-decoration-color: #00af00\">10</span>)             │            <span style=\"color: #00af00; text-decoration-color: #00af00\">20</span> │\n",
       "├─────────────────────────────────┼────────────────────────┼───────────────┤\n",
       "│ dense_1 (<span style=\"color: #0087ff; text-decoration-color: #0087ff\">Dense</span>)                 │ (<span style=\"color: #00d7ff; text-decoration-color: #00d7ff\">None</span>, <span style=\"color: #00af00; text-decoration-color: #00af00\">10</span>)             │           <span style=\"color: #00af00; text-decoration-color: #00af00\">110</span> │\n",
       "├─────────────────────────────────┼────────────────────────┼───────────────┤\n",
       "│ dense_2 (<span style=\"color: #0087ff; text-decoration-color: #0087ff\">Dense</span>)                 │ (<span style=\"color: #00d7ff; text-decoration-color: #00d7ff\">None</span>, <span style=\"color: #00af00; text-decoration-color: #00af00\">10</span>)             │           <span style=\"color: #00af00; text-decoration-color: #00af00\">110</span> │\n",
       "├─────────────────────────────────┼────────────────────────┼───────────────┤\n",
       "│ dense_3 (<span style=\"color: #0087ff; text-decoration-color: #0087ff\">Dense</span>)                 │ (<span style=\"color: #00d7ff; text-decoration-color: #00d7ff\">None</span>, <span style=\"color: #00af00; text-decoration-color: #00af00\">10</span>)             │           <span style=\"color: #00af00; text-decoration-color: #00af00\">110</span> │\n",
       "├─────────────────────────────────┼────────────────────────┼───────────────┤\n",
       "│ dense_4 (<span style=\"color: #0087ff; text-decoration-color: #0087ff\">Dense</span>)                 │ (<span style=\"color: #00d7ff; text-decoration-color: #00d7ff\">None</span>, <span style=\"color: #00af00; text-decoration-color: #00af00\">10</span>)             │           <span style=\"color: #00af00; text-decoration-color: #00af00\">110</span> │\n",
       "├─────────────────────────────────┼────────────────────────┼───────────────┤\n",
       "│ dense_5 (<span style=\"color: #0087ff; text-decoration-color: #0087ff\">Dense</span>)                 │ (<span style=\"color: #00d7ff; text-decoration-color: #00d7ff\">None</span>, <span style=\"color: #00af00; text-decoration-color: #00af00\">1</span>)              │            <span style=\"color: #00af00; text-decoration-color: #00af00\">11</span> │\n",
       "└─────────────────────────────────┴────────────────────────┴───────────────┘\n",
       "</pre>\n"
      ],
      "text/plain": [
       "┏━━━━━━━━━━━━━━━━━━━━━━━━━━━━━━━━━┳━━━━━━━━━━━━━━━━━━━━━━━━┳━━━━━━━━━━━━━━━┓\n",
       "┃\u001b[1m \u001b[0m\u001b[1mLayer (type)                   \u001b[0m\u001b[1m \u001b[0m┃\u001b[1m \u001b[0m\u001b[1mOutput Shape          \u001b[0m\u001b[1m \u001b[0m┃\u001b[1m \u001b[0m\u001b[1m      Param #\u001b[0m\u001b[1m \u001b[0m┃\n",
       "┡━━━━━━━━━━━━━━━━━━━━━━━━━━━━━━━━━╇━━━━━━━━━━━━━━━━━━━━━━━━╇━━━━━━━━━━━━━━━┩\n",
       "│ dense (\u001b[38;5;33mDense\u001b[0m)                   │ (\u001b[38;5;45mNone\u001b[0m, \u001b[38;5;34m10\u001b[0m)             │            \u001b[38;5;34m20\u001b[0m │\n",
       "├─────────────────────────────────┼────────────────────────┼───────────────┤\n",
       "│ dense_1 (\u001b[38;5;33mDense\u001b[0m)                 │ (\u001b[38;5;45mNone\u001b[0m, \u001b[38;5;34m10\u001b[0m)             │           \u001b[38;5;34m110\u001b[0m │\n",
       "├─────────────────────────────────┼────────────────────────┼───────────────┤\n",
       "│ dense_2 (\u001b[38;5;33mDense\u001b[0m)                 │ (\u001b[38;5;45mNone\u001b[0m, \u001b[38;5;34m10\u001b[0m)             │           \u001b[38;5;34m110\u001b[0m │\n",
       "├─────────────────────────────────┼────────────────────────┼───────────────┤\n",
       "│ dense_3 (\u001b[38;5;33mDense\u001b[0m)                 │ (\u001b[38;5;45mNone\u001b[0m, \u001b[38;5;34m10\u001b[0m)             │           \u001b[38;5;34m110\u001b[0m │\n",
       "├─────────────────────────────────┼────────────────────────┼───────────────┤\n",
       "│ dense_4 (\u001b[38;5;33mDense\u001b[0m)                 │ (\u001b[38;5;45mNone\u001b[0m, \u001b[38;5;34m10\u001b[0m)             │           \u001b[38;5;34m110\u001b[0m │\n",
       "├─────────────────────────────────┼────────────────────────┼───────────────┤\n",
       "│ dense_5 (\u001b[38;5;33mDense\u001b[0m)                 │ (\u001b[38;5;45mNone\u001b[0m, \u001b[38;5;34m1\u001b[0m)              │            \u001b[38;5;34m11\u001b[0m │\n",
       "└─────────────────────────────────┴────────────────────────┴───────────────┘\n"
      ]
     },
     "metadata": {},
     "output_type": "display_data"
    },
    {
     "data": {
      "text/html": [
       "<pre style=\"white-space:pre;overflow-x:auto;line-height:normal;font-family:Menlo,'DejaVu Sans Mono',consolas,'Courier New',monospace\"><span style=\"font-weight: bold\"> Total params: </span><span style=\"color: #00af00; text-decoration-color: #00af00\">1,415</span> (5.53 KB)\n",
       "</pre>\n"
      ],
      "text/plain": [
       "\u001b[1m Total params: \u001b[0m\u001b[38;5;34m1,415\u001b[0m (5.53 KB)\n"
      ]
     },
     "metadata": {},
     "output_type": "display_data"
    },
    {
     "data": {
      "text/html": [
       "<pre style=\"white-space:pre;overflow-x:auto;line-height:normal;font-family:Menlo,'DejaVu Sans Mono',consolas,'Courier New',monospace\"><span style=\"font-weight: bold\"> Trainable params: </span><span style=\"color: #00af00; text-decoration-color: #00af00\">471</span> (1.84 KB)\n",
       "</pre>\n"
      ],
      "text/plain": [
       "\u001b[1m Trainable params: \u001b[0m\u001b[38;5;34m471\u001b[0m (1.84 KB)\n"
      ]
     },
     "metadata": {},
     "output_type": "display_data"
    },
    {
     "data": {
      "text/html": [
       "<pre style=\"white-space:pre;overflow-x:auto;line-height:normal;font-family:Menlo,'DejaVu Sans Mono',consolas,'Courier New',monospace\"><span style=\"font-weight: bold\"> Non-trainable params: </span><span style=\"color: #00af00; text-decoration-color: #00af00\">0</span> (0.00 B)\n",
       "</pre>\n"
      ],
      "text/plain": [
       "\u001b[1m Non-trainable params: \u001b[0m\u001b[38;5;34m0\u001b[0m (0.00 B)\n"
      ]
     },
     "metadata": {},
     "output_type": "display_data"
    },
    {
     "data": {
      "text/html": [
       "<pre style=\"white-space:pre;overflow-x:auto;line-height:normal;font-family:Menlo,'DejaVu Sans Mono',consolas,'Courier New',monospace\"><span style=\"font-weight: bold\"> Optimizer params: </span><span style=\"color: #00af00; text-decoration-color: #00af00\">944</span> (3.69 KB)\n",
       "</pre>\n"
      ],
      "text/plain": [
       "\u001b[1m Optimizer params: \u001b[0m\u001b[38;5;34m944\u001b[0m (3.69 KB)\n"
      ]
     },
     "metadata": {},
     "output_type": "display_data"
    },
    {
     "name": "stdout",
     "output_type": "stream",
     "text": [
      "\u001b[1m5/5\u001b[0m \u001b[32m━━━━━━━━━━━━━━━━━━━━\u001b[0m\u001b[37m\u001b[0m \u001b[1m0s\u001b[0m 12ms/step\n",
      "5.1 => 1.92 (expected 1.40)\n",
      "4.9 => 1.77 (expected 1.40)\n",
      "4.7 => 1.59 (expected 1.30)\n",
      "4.6 => 1.49 (expected 1.50)\n",
      "5.0 => 1.84 (expected 1.40)\n",
      "5.4 => 2.34 (expected 1.70)\n",
      "4.6 => 1.49 (expected 1.40)\n",
      "5.0 => 1.84 (expected 1.50)\n",
      "4.4 => 1.28 (expected 1.40)\n",
      "4.9 => 1.77 (expected 1.50)\n",
      "5.4 => 2.34 (expected 1.50)\n",
      "4.8 => 1.69 (expected 1.60)\n",
      "4.8 => 1.69 (expected 1.40)\n",
      "4.3 => 1.18 (expected 1.10)\n",
      "5.8 => 4.18 (expected 1.20)\n",
      "5.7 => 3.94 (expected 1.50)\n",
      "5.4 => 2.34 (expected 1.30)\n",
      "5.1 => 1.92 (expected 1.40)\n",
      "5.7 => 3.94 (expected 1.70)\n",
      "5.1 => 1.92 (expected 1.50)\n",
      "5.4 => 2.34 (expected 1.70)\n",
      "5.1 => 1.92 (expected 1.50)\n",
      "4.6 => 1.49 (expected 1.00)\n",
      "5.1 => 1.92 (expected 1.70)\n",
      "4.8 => 1.69 (expected 1.90)\n",
      "5.0 => 1.84 (expected 1.60)\n",
      "5.0 => 1.84 (expected 1.60)\n",
      "5.2 => 1.99 (expected 1.50)\n",
      "5.2 => 1.99 (expected 1.40)\n",
      "4.7 => 1.59 (expected 1.60)\n",
      "4.8 => 1.69 (expected 1.60)\n",
      "5.4 => 2.34 (expected 1.50)\n",
      "5.2 => 1.99 (expected 1.50)\n",
      "5.5 => 3.14 (expected 1.40)\n",
      "4.9 => 1.77 (expected 1.50)\n",
      "5.0 => 1.84 (expected 1.20)\n",
      "5.5 => 3.14 (expected 1.30)\n",
      "4.9 => 1.77 (expected 1.40)\n",
      "4.4 => 1.28 (expected 1.30)\n",
      "5.1 => 1.92 (expected 1.50)\n",
      "5.0 => 1.84 (expected 1.30)\n",
      "4.5 => 1.39 (expected 1.30)\n",
      "4.4 => 1.28 (expected 1.30)\n",
      "5.0 => 1.84 (expected 1.60)\n",
      "5.1 => 1.92 (expected 1.90)\n",
      "4.8 => 1.69 (expected 1.40)\n",
      "5.1 => 1.92 (expected 1.60)\n",
      "4.6 => 1.49 (expected 1.40)\n",
      "5.3 => 2.06 (expected 1.50)\n",
      "5.0 => 1.84 (expected 1.40)\n",
      "7.0 => 5.75 (expected 4.70)\n",
      "6.4 => 5.12 (expected 4.50)\n",
      "6.9 => 5.65 (expected 4.90)\n",
      "5.5 => 3.14 (expected 4.00)\n",
      "6.5 => 5.22 (expected 4.60)\n",
      "5.7 => 3.94 (expected 4.50)\n",
      "6.3 => 5.01 (expected 4.70)\n",
      "4.9 => 1.77 (expected 3.30)\n",
      "6.6 => 5.33 (expected 4.60)\n",
      "5.2 => 1.99 (expected 3.90)\n",
      "5.0 => 1.84 (expected 3.50)\n",
      "5.9 => 4.42 (expected 4.20)\n",
      "6.0 => 4.66 (expected 4.00)\n",
      "6.1 => 4.80 (expected 4.70)\n",
      "5.6 => 3.70 (expected 3.60)\n",
      "6.7 => 5.43 (expected 4.40)\n",
      "5.6 => 3.70 (expected 4.50)\n",
      "5.8 => 4.18 (expected 4.10)\n",
      "6.2 => 4.90 (expected 4.50)\n",
      "5.6 => 3.70 (expected 3.90)\n",
      "5.9 => 4.42 (expected 4.80)\n",
      "6.1 => 4.80 (expected 4.00)\n",
      "6.3 => 5.01 (expected 4.90)\n",
      "6.1 => 4.80 (expected 4.70)\n",
      "6.4 => 5.12 (expected 4.30)\n",
      "6.6 => 5.33 (expected 4.40)\n",
      "6.8 => 5.54 (expected 4.80)\n",
      "6.7 => 5.43 (expected 5.00)\n",
      "6.0 => 4.66 (expected 4.50)\n",
      "5.7 => 3.94 (expected 3.50)\n",
      "5.5 => 3.14 (expected 3.80)\n",
      "5.5 => 3.14 (expected 3.70)\n",
      "5.8 => 4.18 (expected 3.90)\n",
      "6.0 => 4.66 (expected 5.10)\n",
      "5.4 => 2.34 (expected 4.50)\n",
      "6.0 => 4.66 (expected 4.50)\n",
      "6.7 => 5.43 (expected 4.70)\n",
      "6.3 => 5.01 (expected 4.40)\n",
      "5.6 => 3.70 (expected 4.10)\n",
      "5.5 => 3.14 (expected 4.00)\n",
      "5.5 => 3.14 (expected 4.40)\n",
      "6.1 => 4.80 (expected 4.60)\n",
      "5.8 => 4.18 (expected 4.00)\n",
      "5.0 => 1.84 (expected 3.30)\n",
      "5.6 => 3.70 (expected 4.20)\n",
      "5.7 => 3.94 (expected 4.20)\n",
      "5.7 => 3.94 (expected 4.20)\n",
      "6.2 => 4.90 (expected 4.30)\n",
      "5.1 => 1.92 (expected 3.00)\n",
      "5.7 => 3.94 (expected 4.10)\n",
      "6.3 => 5.01 (expected 6.00)\n",
      "5.8 => 4.18 (expected 5.10)\n",
      "7.1 => 5.86 (expected 5.90)\n",
      "6.3 => 5.01 (expected 5.60)\n",
      "6.5 => 5.22 (expected 5.80)\n",
      "7.6 => 6.39 (expected 6.60)\n",
      "4.9 => 1.77 (expected 4.50)\n",
      "7.3 => 6.07 (expected 6.30)\n",
      "6.7 => 5.43 (expected 5.80)\n",
      "7.2 => 5.96 (expected 6.10)\n",
      "6.5 => 5.22 (expected 5.10)\n",
      "6.4 => 5.12 (expected 5.30)\n",
      "6.8 => 5.54 (expected 5.50)\n",
      "5.7 => 3.94 (expected 5.00)\n",
      "5.8 => 4.18 (expected 5.10)\n",
      "6.4 => 5.12 (expected 5.30)\n",
      "6.5 => 5.22 (expected 5.50)\n",
      "7.7 => 6.49 (expected 6.70)\n",
      "7.7 => 6.49 (expected 6.90)\n",
      "6.0 => 4.66 (expected 5.00)\n",
      "6.9 => 5.65 (expected 5.70)\n",
      "5.6 => 3.70 (expected 4.90)\n",
      "7.7 => 6.49 (expected 6.70)\n",
      "6.3 => 5.01 (expected 4.90)\n",
      "6.7 => 5.43 (expected 5.70)\n",
      "7.2 => 5.96 (expected 6.00)\n",
      "6.2 => 4.90 (expected 4.80)\n",
      "6.1 => 4.80 (expected 4.90)\n",
      "6.4 => 5.12 (expected 5.60)\n",
      "7.2 => 5.96 (expected 5.80)\n",
      "7.4 => 6.18 (expected 6.10)\n",
      "7.9 => 6.71 (expected 6.40)\n",
      "6.4 => 5.12 (expected 5.60)\n",
      "6.3 => 5.01 (expected 5.10)\n",
      "6.1 => 4.80 (expected 5.60)\n",
      "7.7 => 6.49 (expected 6.10)\n",
      "6.3 => 5.01 (expected 5.60)\n",
      "6.4 => 5.12 (expected 5.50)\n",
      "6.0 => 4.66 (expected 4.80)\n",
      "6.9 => 5.65 (expected 5.40)\n",
      "6.7 => 5.43 (expected 5.60)\n",
      "6.9 => 5.65 (expected 5.10)\n",
      "5.8 => 4.18 (expected 5.10)\n",
      "6.8 => 5.54 (expected 5.90)\n",
      "6.7 => 5.43 (expected 5.70)\n",
      "6.7 => 5.43 (expected 5.20)\n",
      "6.3 => 5.01 (expected 5.00)\n",
      "6.5 => 5.22 (expected 5.20)\n",
      "6.2 => 4.90 (expected 5.40)\n"
     ]
    },
    {
     "name": "stderr",
     "output_type": "stream",
     "text": [
      "C:\\Users\\calvi\\AppData\\Local\\Temp\\ipykernel_5360\\1831398922.py:26: DeprecationWarning: Conversion of an array with ndim > 0 to a scalar is deprecated, and will error in future. Ensure you extract a single element from your array before performing this operation. (Deprecated NumPy 1.25.)\n",
      "  print('%s => %.2f (expected %.2f)' %(X[i].tolist(), predictions[i], y[i]) )\n"
     ]
    }
   ],
   "source": [
    "#define keras model\n",
    "model = Sequential()\n",
    "\n",
    "model.add(Dense(10,input_dim=1,activation='relu'))\n",
    "model.add(Dense(10,activation='relu'))\n",
    "model.add(Dense(10,activation='relu'))\n",
    "model.add(Dense(10,activation='relu')) # Add more layers\n",
    "model.add(Dense(10,activation='relu')) # Add more layers\n",
    "model.add(Dense(1))\n",
    "\n",
    "#compile the keras model\n",
    "opt = optimizers.Adam(learning_rate=0.001)\n",
    "mse = tf.keras.losses.MeanSquaredError(\n",
    "    reduction=tf.keras.losses.Reduction.SUM)\n",
    "model.compile(loss=mse, optimizer=opt)\n",
    "\n",
    "#fit the keras model on the dataset (CPU)\n",
    "model.fit(X,y,epochs=2000, batch_size = 10, verbose=0)\n",
    "model.summary()\n",
    "\n",
    "#make class predictions with the model\n",
    "predictions = model.predict(X)\n",
    "\n",
    "#summarize all cases\n",
    "for i in range(149):\n",
    "    print('%s => %.2f (expected %.2f)' %(X[i].tolist(), predictions[i], y[i]) )"
   ]
  },
  {
   "cell_type": "code",
   "execution_count": 6,
   "metadata": {
    "colab": {
     "base_uri": "https://localhost:8080/",
     "height": 314
    },
    "id": "n1CIXUlPjkct",
    "outputId": "904841e6-dbb7-4860-d8ec-517d1f5d397c"
   },
   "outputs": [
    {
     "name": "stdout",
     "output_type": "stream",
     "text": [
      "\u001b[1m2/2\u001b[0m \u001b[32m━━━━━━━━━━━━━━━━━━━━\u001b[0m\u001b[37m\u001b[0m \u001b[1m0s\u001b[0m 13ms/step\n"
     ]
    },
    {
     "data": {
      "text/plain": [
       "<matplotlib.legend.Legend at 0x18c61a43e30>"
      ]
     },
     "execution_count": 6,
     "metadata": {},
     "output_type": "execute_result"
    },
    {
     "data": {
      "image/png": "[encoded data removed]",
      "text/plain": [
       "<Figure size 640x480 with 1 Axes>"
      ]
     },
     "metadata": {},
     "output_type": "display_data"
    }
   ],
   "source": [
    "import matplotlib.pyplot as plt\n",
    "number_grid = np.linspace(3, 9)\n",
    "plt.scatter(X,y, label='data')\n",
    "plt.plot(number_grid,model.predict(np.expand_dims(number_grid,axis=1)) , color='red', label='model')\n",
    "plt.xlabel('Sepal Length')\n",
    "plt.ylabel('Petal Length')\n",
    "plt.legend()"
   ]
  }
 ],
 "metadata": {
  "colab": {
   "provenance": []
  },
  "kernelspec": {
   "display_name": "Python [conda env:anaconda3] *",
   "language": "python",
   "name": "conda-env-anaconda3-py"
  },
  "language_info": {
   "codemirror_mode": {
    "name": "ipython",
    "version": 3
   },
   "file_extension": ".py",
   "mimetype": "text/x-python",
   "name": "python",
   "nbconvert_exporter": "python",
   "pygments_lexer": "ipython3",
   "version": "3.12.7"
  }
 },
 "nbformat": 4,
 "nbformat_minor": 4
}

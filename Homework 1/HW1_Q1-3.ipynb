{
 "cells": [
  {
   "cell_type": "code",
   "execution_count": 74,
   "id": "07cee43e-244f-4a69-8eb6-15ad09c213e3",
   "metadata": {},
   "outputs": [],
   "source": [
    "# MANE-4962 HW#1 Questions 1 to 3\n",
    "\n",
    "\"\"\" import libaries \"\"\"\n",
    "import numpy as np"
   ]
  },
  {
   "cell_type": "code",
   "execution_count": 75,
   "id": "1f632bb9-8f18-45b6-b6b0-340a51cd4d5a",
   "metadata": {},
   "outputs": [
    {
     "name": "stdout",
     "output_type": "stream",
     "text": [
      "The number of features for x1 is 5\n",
      "The number of features for x2 is 4\n",
      "The L1 norm for feature vector x1 is 26.0\n",
      "The L2 norm for feature vector x1 is 13.19090595827292\n",
      "The Linf norm for feature vector x1 is 9.0\n",
      "The L1 norm for feature vector x2 is 98.0\n",
      "The L2 norm for feature vector x2 is 89.16277250063504\n",
      "The Linf norm for feature vector x2 is 89.0\n"
     ]
    }
   ],
   "source": [
    "# Question 1: \n",
    "x1 = [2, 3, 4, 8, 9] \n",
    "x2 = [2, -3, -4, 89]\n",
    "\n",
    "x1 = np.transpose(x1)\n",
    "x2 = np.transpose(x2)\n",
    "\n",
    "FeaturesX1 = len(x1)\n",
    "FeaturesX2 = len(x2)\n",
    "\n",
    "# Answer for norms of x1\n",
    "L1x1 = np.linalg.norm(x1,1)\n",
    "L2x1 = np.linalg.norm(x1,2)\n",
    "Linfx1 = np.linalg.norm(x1, np.inf)\n",
    "\n",
    "# Answer for norms of x2\n",
    "L1x2 = np.linalg.norm(x2,1)\n",
    "L2x2 = np.linalg.norm(x2,2)\n",
    "Linfx2 = np.linalg.norm(x2, np.inf)\n",
    "\n",
    "# Answer for Question 1a\n",
    "print(\"The number of features for x1 is \" + str(FeaturesX1))\n",
    "print(\"The number of features for x2 is \" + str(FeaturesX2))\n",
    "\n",
    "# Answer for Question 2a\n",
    "print(\"The L1 norm for feature vector x1 is \" + str(L1x1))\n",
    "print(\"The L2 norm for feature vector x1 is \" + str(L2x1))\n",
    "print(\"The Linf norm for feature vector x1 is \" + str(Linfx1))\n",
    "print(\"The L1 norm for feature vector x2 is \" + str(L1x2))\n",
    "print(\"The L2 norm for feature vector x2 is \" + str(L2x2))\n",
    "print(\"The Linf norm for feature vector x2 is \" + str(Linfx2))"
   ]
  },
  {
   "cell_type": "code",
   "execution_count": 76,
   "id": "df1cba72-94f0-4ae1-a61a-741432e49616",
   "metadata": {},
   "outputs": [
    {
     "name": "stdout",
     "output_type": "stream",
     "text": [
      "The length of the feature vector of x (input) is 3145728\n",
      "The length of the feature vector of y (output) is 12288\n",
      "If y = Wx + b; The matrix W must be a size of (Output_vec * Input_vec) and the number of elements is 38654705664. b must also equal to a size of (Output_vec * 1), thus the number of elements is 12288\n"
     ]
    }
   ],
   "source": [
    "# Question 2:\n",
    "\"\"\" In a color image there are in total 3 channels that repersents the color pixel R, G and B. \"\"\"\n",
    "Input_vec = 1024*1024*3 # Question 2a\n",
    "Output_vec = 64*64*3 # Question 2b\n",
    "W_total = Output_vec*Input_vec\n",
    "b_total = Output_vec * 1\n",
    "\n",
    "\n",
    "# Answer for Question 2a to 2c \n",
    "print(\"The length of the feature vector of x (input) is \" + str(Input_vec))\n",
    "print(\"The length of the feature vector of y (output) is \" + str(Output_vec))\n",
    "print(\"If y = Wx + b; The matrix W must be a size of (Output_vec * Input_vec) and the number of elements is \" + str(W_total) + \".\" + \" b must also equal to a size of (Output_vec * 1), thus the number of elements is \" + str(b_total))\n"
   ]
  },
  {
   "cell_type": "code",
   "execution_count": 77,
   "id": "40e5ba18-0c8f-4ea3-83bb-a3f1e6aea551",
   "metadata": {},
   "outputs": [
    {
     "name": "stdout",
     "output_type": "stream",
     "text": [
      "The 1-norm for matrix W is 3.0\n",
      "The 2-norm for matrix W is 2.2882456112707374\n",
      "The inf-norm for matrix W is 2.0\n",
      "The Frobenius-norm for matrix W is 2.449489742783178\n"
     ]
    }
   ],
   "source": [
    "# Question 3:\n",
    "W = np.array([[1, -1], [2, 0]])\n",
    "\n",
    "# Answer for norms of matrix W\n",
    "W1 = np.linalg.norm(W,1)\n",
    "W2 = np.linalg.norm(W,2)\n",
    "Winf = np.linalg.norm(W, np.inf)\n",
    "Wfro = np.linalg.norm(W,'fro')\n",
    "\n",
    "# Answer for Question 3\n",
    "print(\"The 1-norm for matrix W is \" + str(W1))\n",
    "print(\"The 2-norm for matrix W is \" + str(W2))\n",
    "print(\"The inf-norm for matrix W is \" + str(Winf))\n",
    "print(\"The Frobenius-norm for matrix W is \" + str(Wfro))"
   ]
  }
 ],
 "metadata": {
  "kernelspec": {
   "display_name": "Python [conda env:spyder-runtime]",
   "language": "python",
   "name": "conda-env-spyder-runtime-py"
  },
  "language_info": {
   "codemirror_mode": {
    "name": "ipython",
    "version": 3
   },
   "file_extension": ".py",
   "mimetype": "text/x-python",
   "name": "python",
   "nbconvert_exporter": "python",
   "pygments_lexer": "ipython3",
   "version": "3.11.10"
  }
 },
 "nbformat": 4,
 "nbformat_minor": 5
}
